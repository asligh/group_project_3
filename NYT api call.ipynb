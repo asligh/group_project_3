{
 "cells": [
  {
   "cell_type": "code",
   "execution_count": 18,
   "metadata": {},
   "outputs": [],
   "source": [
    "# libraries and set up\n",
    "import requests\n",
    "import json\n",
    "from datetime import datetime\n",
    "import pprint\n",
    "\n",
    "import matplotlib.pyplot as plt\n",
    "\n",
    "import pandas as pd\n",
    "import numpy as np\n",
    "from pandas import Series, DataFrame\n",
    "\n",
    "# Import API key\n",
    "from api_keys import nyt_api_key, news_api_key\n",
    "\n",
    "billionaire_metadata_path = \"data/Billionaire.csv\""
   ]
  },
  {
   "cell_type": "code",
   "execution_count": 19,
   "metadata": {},
   "outputs": [],
   "source": [
    "#Constants\n",
    "nyt_api_url                = 'https://api.nytimes.com/svc/search/v2/articlesearch.json?'\n",
    "news_api_url_everything    = 'https://newsapi.org/v2/everything?'\n",
    "news_api_url_top_headlines = \"https://newsapi.org/v2/top-headlines/sources?\""
   ]
  },
  {
   "cell_type": "code",
   "execution_count": 20,
   "metadata": {},
   "outputs": [],
   "source": [
    "# Read the billionaire data\n",
    "billionaire_metadata = pd.read_csv(billionaire_metadata_path)\n",
    "billionaire_df = pd.DataFrame(billionaire_metadata)\n",
    "\n",
    "#display(billionaire_df)"
   ]
  },
  {
   "cell_type": "code",
   "execution_count": 21,
   "metadata": {},
   "outputs": [],
   "source": [
    "def run_nyt_api(data_row):\n",
    "    \n",
    "    billionaire_name = data_row[\"Name\"]\n",
    "\n",
    "    query        = f\"q={billionaire_name}\"\n",
    "    filter_query = \"&fq=news_desk:(\\\"World\\\" \\\"Business\\\") AND source:(\\\"The New York Times\\\")\" #no longer needed\n",
    "    date_range   = \"&begin_date=20210101&end_date=20211231\"\n",
    "    facets       = \"&facet_fields=source&facet=true\"\n",
    "    api_key      = f\"&api-key={nyt_api_key}\"\n",
    "    \n",
    "    #nyt_query_url = f\"{nyt_api_url}{query}{filter_query}{facets}{date_range}{api_key}\"\n",
    "    \n",
    "    nyt_query_url = f\"{nyt_api_url}{query}{facets}{date_range}{api_key}\"\n",
    "    response      = requests.get(nyt_query_url)\n",
    "    status_code   = response.status_code\n",
    "    \n",
    "    if status_code == 200:   \n",
    "        \n",
    "        json_obj = response.json()    \n",
    "        facets = json_obj[\"response\"][\"facets\"][\"source\"][\"terms\"]\n",
    "        print(f\"NYT Api results = {facets}\")\n",
    "        \n",
    "    else:\n",
    "        print(\"Ooops\")   "
   ]
  },
  {
   "cell_type": "code",
   "execution_count": 28,
   "metadata": {},
   "outputs": [],
   "source": [
    "def run_newsapi_api(data_row):\n",
    "    \n",
    "    #https://newsapi.org/docs/endpoints/everything\n",
    "    \n",
    "    billionaire_name = data_row[\"Name\"]\n",
    "    \n",
    "    top_headlines = False\n",
    "    url = None\n",
    "    \n",
    "    if(top_headlines):\n",
    "        url = news_api_url_top_headlines\n",
    "    else:\n",
    "        url = news_api_url_everything\n",
    "        \n",
    "    query      = f\"q={billionaire_name}\"\n",
    "    language   = \"&language=en\"\n",
    "    date_range = \"&from=2021-12-07&to=2022-01-06\"\n",
    "    sort_by    = \"&sortBy=popularity\"\n",
    "    api_key    = f\"&apikey={news_api_key}\"\n",
    "    \n",
    "    billionaire_name = data_row[\"Name\"]    \n",
    "    query_url = f\"{url}{query}{language}{date_range}{sort_by}{api_key}\"\n",
    "    \n",
    "    print(query_url)"
   ]
  },
  {
   "cell_type": "code",
   "execution_count": 29,
   "metadata": {},
   "outputs": [
    {
     "name": "stdout",
     "output_type": "stream",
     "text": [
      "https://newsapi.org/v2/everything?q=Jeff Bezos&language=en&from=2021-12-07&to=2022-01-06&sortBy=popularity&apikey=96cc2a0a608c4c6498abd454af8240ee\n"
     ]
    }
   ],
   "source": [
    "is_nyt_api = False #for testing\n",
    "\n",
    "for idx,data_row in billionaire_df.iterrows():\n",
    "    \n",
    "    if is_nyt_api:\n",
    "        run_nyt_api(data_row)\n",
    "    else:\n",
    "        run_newsapi_api(data_row)\n",
    "\n",
    "    break #only generate 1 response for now"
   ]
  },
  {
   "cell_type": "code",
   "execution_count": null,
   "metadata": {},
   "outputs": [],
   "source": [
    "## 2. Get Articles\n",
    "#bezos_articles = requests.get(query_url).json()\n",
    "\n",
    "#pprint.pprint(bezos_articles)"
   ]
  }
 ],
 "metadata": {
  "kernelspec": {
   "display_name": "Python [conda env:PythonData] *",
   "language": "python",
   "name": "conda-env-PythonData-py"
  },
  "language_info": {
   "codemirror_mode": {
    "name": "ipython",
    "version": 3
   },
   "file_extension": ".py",
   "mimetype": "text/x-python",
   "name": "python",
   "nbconvert_exporter": "python",
   "pygments_lexer": "ipython3",
   "version": "3.8.11"
  },
  "latex_envs": {
   "LaTeX_envs_menu_present": true,
   "autoclose": false,
   "autocomplete": true,
   "bibliofile": "biblio.bib",
   "cite_by": "apalike",
   "current_citInitial": 1,
   "eqLabelWithNumbers": true,
   "eqNumInitial": 1,
   "hotkeys": {
    "equation": "Ctrl-E",
    "itemize": "Ctrl-I"
   },
   "labels_anchors": false,
   "latex_user_defs": false,
   "report_style_numbering": false,
   "user_envs_cfg": false
  }
 },
 "nbformat": 4,
 "nbformat_minor": 4
}
