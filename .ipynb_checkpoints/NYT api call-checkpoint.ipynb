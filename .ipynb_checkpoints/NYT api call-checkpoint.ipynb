{
 "cells": [
  {
   "cell_type": "code",
   "execution_count": 12,
   "metadata": {},
   "outputs": [],
   "source": [
    "# libraries and set up\n",
    "import requests\n",
    "import json\n",
    "from datetime import datetime\n",
    "import pprint\n",
    "\n",
    "import matplotlib.pyplot as plt\n",
    "\n",
    "import pandas as pd\n",
    "import numpy as np\n",
    "from pandas import Series, DataFrame\n",
    "\n",
    "# Import API key\n",
    "from api_keys import nyt_api_key, news_api_key\n",
    "\n",
    "billionaire_metadata_path = \"data/Billionaire.csv\""
   ]
  },
  {
   "cell_type": "code",
   "execution_count": 13,
   "metadata": {},
   "outputs": [],
   "source": [
    "#Constants\n",
    "nyt_api_url                = 'https://api.nytimes.com/svc/search/v2/articlesearch.json?'\n",
    "news_api_url_everything    = 'https://newsapi.org/v2/everything?'\n",
    "news_api_url_top_headlines = \"https://newsapi.org/v2/top-headlines/sources?\""
   ]
  },
  {
   "cell_type": "code",
   "execution_count": 14,
   "metadata": {},
   "outputs": [],
   "source": [
    "# Read the billionaire data\n",
    "billionaire_metadata = pd.read_csv(billionaire_metadata_path)\n",
    "billionaire_df = pd.DataFrame(billionaire_metadata)\n",
    "\n",
    "#display(billionaire_df)"
   ]
  },
  {
   "cell_type": "code",
   "execution_count": 15,
   "metadata": {},
   "outputs": [],
   "source": [
    "def run_nyt_api(data_row):\n",
    "    \n",
    "    billionaire_name = data_row[\"Name\"]\n",
    "\n",
    "    query        = f\"q={billionaire_name}\"\n",
    "    filter_query = \"&fq=news_desk:(\\\"World\\\" \\\"Business\\\") AND source:(\\\"The New York Times\\\")\" #no longer needed\n",
    "    date_range   = \"&begin_date=20210101&end_date=20211231\"\n",
    "    facets       = \"&facet_fields=source&facet=true\"\n",
    "    api_key      = f\"&api-key={nyt_api_key}\"\n",
    "    \n",
    "    #nyt_query_url = f\"{nyt_api_url}{query}{filter_query}{facets}{date_range}{api_key}\"\n",
    "    \n",
    "    nyt_query_url = f\"{nyt_api_url}{query}{facets}{date_range}{api_key}\"\n",
    "    response      = requests.get(nyt_query_url)\n",
    "    status_code   = response.status_code\n",
    "    \n",
    "    if status_code == 200:   \n",
    "        \n",
    "        json_obj = response.json()    \n",
    "        facets = json_obj[\"response\"][\"facets\"][\"source\"][\"terms\"]\n",
    "        print(f\"NYT Api results = {facets}\")\n",
    "        \n",
    "    else:\n",
    "        print(\"Ooops\")   "
   ]
  },
  {
   "cell_type": "code",
   "execution_count": 16,
   "metadata": {},
   "outputs": [],
   "source": [
    "def run_newsapi_api(data_row):\n",
    "    \n",
    "    #https://newsapi.org/docs/endpoints/everything\n",
    "    \n",
    "    billionaire_name = data_row[\"Name\"]\n",
    "    \n",
    "    top_headlines = True\n",
    "    url = None\n",
    "    \n",
    "    if(top_headlines):\n",
    "        url = news_api_url_top_headlines\n",
    "    else:\n",
    "        url = news_api_url_everything\n",
    "        \n",
    "    query      = f\"q={billionaire_name}\"\n",
    "    language   = \"&language=en\"\n",
    "    date_range = \"&from=2021-01-01&to=2021-12-31\"\n",
    "    sort_by    = \"&sortBy=popularity\"\n",
    "    api_key    = f\"&apikey={news_api_key}\"\n",
    "    \n",
    "    billionaire_name = data_row[\"Name\"]    \n",
    "    query_url = f\"{url}{query}{language}{date_range}{sort_by}{api_key}\"\n",
    "    \n",
    "    print(query_url)"
   ]
  },
  {
   "cell_type": "code",
   "execution_count": 17,
   "metadata": {},
   "outputs": [
    {
     "ename": "UnboundLocalError",
     "evalue": "local variable 'billionaire_name' referenced before assignment",
     "output_type": "error",
     "traceback": [
      "\u001b[1;31m---------------------------------------------------------------------------\u001b[0m",
      "\u001b[1;31mUnboundLocalError\u001b[0m                         Traceback (most recent call last)",
      "\u001b[1;32m~\\AppData\\Local\\Temp/ipykernel_24720/4187360696.py\u001b[0m in \u001b[0;36m<module>\u001b[1;34m\u001b[0m\n\u001b[0;32m      6\u001b[0m         \u001b[0mrun_nyt_api\u001b[0m\u001b[1;33m(\u001b[0m\u001b[0mdata_row\u001b[0m\u001b[1;33m)\u001b[0m\u001b[1;33m\u001b[0m\u001b[1;33m\u001b[0m\u001b[0m\n\u001b[0;32m      7\u001b[0m     \u001b[1;32melse\u001b[0m\u001b[1;33m:\u001b[0m\u001b[1;33m\u001b[0m\u001b[1;33m\u001b[0m\u001b[0m\n\u001b[1;32m----> 8\u001b[1;33m         \u001b[0mrun_newsapi_api\u001b[0m\u001b[1;33m(\u001b[0m\u001b[0mdata_row\u001b[0m\u001b[1;33m)\u001b[0m\u001b[1;33m\u001b[0m\u001b[1;33m\u001b[0m\u001b[0m\n\u001b[0m\u001b[0;32m      9\u001b[0m \u001b[1;33m\u001b[0m\u001b[0m\n\u001b[0;32m     10\u001b[0m     \u001b[1;32mbreak\u001b[0m \u001b[1;31m#only generate 1 response for now\u001b[0m\u001b[1;33m\u001b[0m\u001b[1;33m\u001b[0m\u001b[0m\n",
      "\u001b[1;32m~\\AppData\\Local\\Temp/ipykernel_24720/1205997096.py\u001b[0m in \u001b[0;36mrun_newsapi_api\u001b[1;34m(data_row)\u001b[0m\n\u001b[0;32m     11\u001b[0m         \u001b[0murl\u001b[0m \u001b[1;33m=\u001b[0m \u001b[0mnews_api_url_everything\u001b[0m\u001b[1;33m\u001b[0m\u001b[1;33m\u001b[0m\u001b[0m\n\u001b[0;32m     12\u001b[0m \u001b[1;33m\u001b[0m\u001b[0m\n\u001b[1;32m---> 13\u001b[1;33m     \u001b[0mquery\u001b[0m      \u001b[1;33m=\u001b[0m \u001b[1;34mf\"q={billionaire_name}\"\u001b[0m\u001b[1;33m\u001b[0m\u001b[1;33m\u001b[0m\u001b[0m\n\u001b[0m\u001b[0;32m     14\u001b[0m     \u001b[0mlanguage\u001b[0m   \u001b[1;33m=\u001b[0m \u001b[1;34m\"&language=en\"\u001b[0m\u001b[1;33m\u001b[0m\u001b[1;33m\u001b[0m\u001b[0m\n\u001b[0;32m     15\u001b[0m     \u001b[0mdate_range\u001b[0m \u001b[1;33m=\u001b[0m \u001b[1;34m\"&from=2021-01-01&to=2021-12-31\"\u001b[0m\u001b[1;33m\u001b[0m\u001b[1;33m\u001b[0m\u001b[0m\n",
      "\u001b[1;31mUnboundLocalError\u001b[0m: local variable 'billionaire_name' referenced before assignment"
     ]
    }
   ],
   "source": [
    "is_nyt_api = False #for testing\n",
    "\n",
    "for idx,data_row in billionaire_df.iterrows():\n",
    "    \n",
    "    if is_nyt_api:\n",
    "        run_nyt_api(data_row)\n",
    "    else:\n",
    "        run_newsapi_api(data_row)\n",
    "\n",
    "    break #only generate 1 response for now"
   ]
  },
  {
   "cell_type": "code",
   "execution_count": null,
   "metadata": {},
   "outputs": [],
   "source": [
    "## 2. Get Articles\n",
    "#bezos_articles = requests.get(query_url).json()\n",
    "\n",
    "#pprint.pprint(bezos_articles)"
   ]
  }
 ],
 "metadata": {
  "kernelspec": {
   "display_name": "Python [conda env:PythonData] *",
   "language": "python",
   "name": "conda-env-PythonData-py"
  },
  "language_info": {
   "codemirror_mode": {
    "name": "ipython",
    "version": 3
   },
   "file_extension": ".py",
   "mimetype": "text/x-python",
   "name": "python",
   "nbconvert_exporter": "python",
   "pygments_lexer": "ipython3",
   "version": "3.8.11"
  },
  "latex_envs": {
   "LaTeX_envs_menu_present": true,
   "autoclose": false,
   "autocomplete": true,
   "bibliofile": "biblio.bib",
   "cite_by": "apalike",
   "current_citInitial": 1,
   "eqLabelWithNumbers": true,
   "eqNumInitial": 1,
   "hotkeys": {
    "equation": "Ctrl-E",
    "itemize": "Ctrl-I"
   },
   "labels_anchors": false,
   "latex_user_defs": false,
   "report_style_numbering": false,
   "user_envs_cfg": false
  }
 },
 "nbformat": 4,
 "nbformat_minor": 4
}
